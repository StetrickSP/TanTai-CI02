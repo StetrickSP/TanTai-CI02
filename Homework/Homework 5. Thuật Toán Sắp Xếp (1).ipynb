{
 "cells": [
  {
   "cell_type": "markdown",
   "metadata": {
    "id": "TPQtDlCuN0iL"
   },
   "source": [
    "## <center>Computer Science Intensive Course - MindX</center>\n",
    "![](./assets/logo.png)\n",
    "# <center>HOMEWORK 5. THUẬT TOÁN SẮP XẾP (1)</center>"
   ]
  },
  {
   "cell_type": "markdown",
   "metadata": {
    "id": "U82ifRzZN0iM"
   },
   "source": [
    "## Bài Tập: Danh Sách Từ\n",
    "\n",
    "Cho danh sách 100 từ tiếng Anh thông dụng nhất, mỗi từ cách nhau bằng một dấu cách. Hãy sắp xếp danh sách trên theo quy tắc sau:\n",
    "- Từ có ít chữ cái hơn đứng trước\n",
    "- Nếu hai từ có cùng số chữ cái, từ nào có thứ tự nhỏ hơn trong bảng chữ cái đứng trước (dùng phép so sánh < hoặc > trên *string*)  \n",
    "\n",
    "**Input**: *most_common_100*  \n",
    "**Output**: Một *string* với cùng định dạng, nhưng các từ được sắp xếp theo quy tắc như trên."
   ]
  },
  {
   "cell_type": "code",
   "execution_count": 1,
   "metadata": {
    "id": "f6RJ86E6N0iO"
   },
   "outputs": [
    {
     "name": "stdout",
     "output_type": "stream",
     "text": [
      "I a an as at be by do go he if in it me my no of on or so to up us we all and any but can day for get her him his how its new not now one our out say see she the two use way who you also back come even from give good have into just know like look make most only over some take than that them then they this time want well what when will with work year your about after could first other their there these think which would people because\n"
     ]
    }
   ],
   "source": [
    "# Input: A string of 100 most common English words\n",
    "most_common_100 = \"the be to of and a in that have I it for not on with he as you do at this but his by from they we say her she or an will my one all would there their what so up out if about who get which go me when make can like time no just him know take people into year your good some could them see other than then now look only come its over think also back after use two how our work first well way even new want because any these give day most us\"\n",
    "\n",
    "# Split the input into a list of words\n",
    "words = most_common_100.split()\n",
    "\n",
    "# Sort the words using a custom key: first by length, then alphabetically\n",
    "sorted_words = sorted(words, key=lambda x: (len(x), x))\n",
    "\n",
    "# Join the sorted words into a single string\n",
    "output = ' '.join(sorted_words)\n",
    "\n",
    "# Output result\n",
    "print(output)"
   ]
  }
 ],
 "metadata": {
  "colab": {
   "provenance": []
  },
  "kernelspec": {
   "display_name": "Python 3",
   "language": "python",
   "name": "python3"
  },
  "language_info": {
   "codemirror_mode": {
    "name": "ipython",
    "version": 3
   },
   "file_extension": ".py",
   "mimetype": "text/x-python",
   "name": "python",
   "nbconvert_exporter": "python",
   "pygments_lexer": "ipython3",
   "version": "3.12.7"
  }
 },
 "nbformat": 4,
 "nbformat_minor": 0
}
